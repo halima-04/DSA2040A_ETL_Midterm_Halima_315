{
 "cells": [
  {
   "cell_type": "code",
   "execution_count": 2,
   "id": "168ad210",
   "metadata": {},
   "outputs": [],
   "source": [
    "import pandas as pd\n",
    "\n",
    "# Load the CSV file\n",
    "raw_data = pd.read_csv(\"raw_data.csv\")\n"
   ]
  },
  {
   "cell_type": "code",
   "execution_count": null,
   "id": "59bc1d2e",
   "metadata": {},
   "outputs": [],
   "source": [
    "#removing duplicates\n",
    "raw_data = raw_data.drop_duplicates()\n"
   ]
  },
  {
   "cell_type": "code",
   "execution_count": 5,
   "id": "8b64ebb9",
   "metadata": {},
   "outputs": [],
   "source": [
    "#handling missing values\n",
    "raw_data['quantity'] = raw_data['quantity'].fillna(1)\n"
   ]
  },
  {
   "cell_type": "code",
   "execution_count": 6,
   "id": "585e9728",
   "metadata": {},
   "outputs": [],
   "source": [
    "#Calculate total_price = quantity * unit_price\n",
    "raw_data['total_price'] = raw_data['quantity'] * raw_data['unit_price']\n",
    "\n"
   ]
  },
  {
   "cell_type": "code",
   "execution_count": 7,
   "id": "652d16a5",
   "metadata": {},
   "outputs": [],
   "source": [
    "#Convert order_date to datetime\n",
    "raw_data['order_date'] = pd.to_datetime(raw_data['order_date'])\n"
   ]
  },
  {
   "cell_type": "code",
   "execution_count": 8,
   "id": "5416f243",
   "metadata": {},
   "outputs": [],
   "source": [
    "#Filter out rows with missing customer_name\n",
    "raw_data = raw_data[raw_data['customer_name'].notnull()]\n",
    "\n"
   ]
  },
  {
   "cell_type": "code",
   "execution_count": 16,
   "id": "abfa6ee9",
   "metadata": {},
   "outputs": [],
   "source": [
    "raw_data.to_csv(\"raw transformed_full.csv\", index=False)"
   ]
  },
  {
   "cell_type": "code",
   "execution_count": 17,
   "id": "abecc89c",
   "metadata": {},
   "outputs": [],
   "source": [
    "import pandas as pd\n",
    "\n",
    "# Load the CSV file\n",
    "incremental_data = pd.read_csv(\"incremental_data.csv\")\n",
    "\n",
    "# 🔁 1. Drop duplicates\n",
    "incremental_data = incremental_data.drop_duplicates()\n",
    "\n",
    "# 🔁 2. Handle missing values\n",
    "# Fill missing unit_price with median\n",
    "if 'unit_price' in incremental_data.columns:\n",
    "    incremental_data['unit_price'] = incremental_data['unit_price'].fillna(incremental_data['unit_price'].median())\n",
    "\n",
    "# Drop rows with any remaining missing values\n",
    "incremental_data = incremental_data.dropna()\n",
    "\n",
    "# 🔁 3. Convert 'date' column to datetime (if present)\n",
    "if 'date' in incremental_data.columns:\n",
    "    incremental_data['date'] = pd.to_datetime(incremental_data['date'], errors='coerce')\n",
    "\n",
    "# 🔁 4. Add total_price column\n",
    "if 'quantity' in incremental_data.columns and 'unit_price' in incremental_data.columns:\n",
    "    incremental_data['total_price'] = incremental_data['quantity'] * incremental_data['unit_price']\n",
    "\n",
    "# ✅ Save the transformed data\n",
    "incremental_data.to_csv(\"transformed_incremental.csv\", index=False)\n",
    "\n"
   ]
  },
  {
   "cell_type": "code",
   "execution_count": null,
   "id": "4333e5a9",
   "metadata": {},
   "outputs": [],
   "source": []
  }
 ],
 "metadata": {
  "kernelspec": {
   "display_name": "Python 3",
   "language": "python",
   "name": "python3"
  },
  "language_info": {
   "codemirror_mode": {
    "name": "ipython",
    "version": 3
   },
   "file_extension": ".py",
   "mimetype": "text/x-python",
   "name": "python",
   "nbconvert_exporter": "python",
   "pygments_lexer": "ipython3",
   "version": "3.12.10"
  }
 },
 "nbformat": 4,
 "nbformat_minor": 5
}
