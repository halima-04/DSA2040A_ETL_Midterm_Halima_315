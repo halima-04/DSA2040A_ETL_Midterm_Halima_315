{
 "cells": [
  {
   "cell_type": "code",
   "execution_count": 4,
   "id": "c73abd3b",
   "metadata": {},
   "outputs": [],
   "source": [
    "import pandas as pd\n",
    "\n",
    "# Load the CSV file\n",
    "raw_data = pd.read_csv(\"raw_data.csv\")\n",
    "\n",
    "import sqlite3\n",
    "\n",
    "conn = sqlite3.connect(\"full_data.db\")\n",
    "raw_data.to_sql(\"full_data\", conn, if_exists=\"replace\", index=False)\n",
    "\n",
    "conn.execute(\"SELECT * FROM full_data LIMIT 5\").fetchall()\n",
    "conn.close()\n"
   ]
  },
  {
   "cell_type": "code",
   "execution_count": 6,
   "id": "28ebfba2",
   "metadata": {},
   "outputs": [],
   "source": [
    "import pandas as pd\n",
    "import sqlite3\n",
    "# Load transformed incremental data\n",
    "df_incremental = pd.read_csv(\"transformed_incremental.csv\")  \n",
    "df_incremental.head()\n",
    "# Create or connect to SQLite database\n",
    "conn = sqlite3.connect(\"incremental_data.db\")\n",
    "\n",
    "# Load DataFrame into SQLite\n",
    "df_incremental.to_sql(\"incremental_data\", conn, if_exists='replace', index=False)\n",
    "\n",
    "# Preview data with a SQL query\n",
    "pd.read_sql(\"SELECT * FROM incremental_data LIMIT 5\", conn)\n",
    "\n",
    "# Close connection\n",
    "conn.close()\n"
   ]
  },
  {
   "cell_type": "code",
   "execution_count": 8,
   "id": "56931721",
   "metadata": {},
   "outputs": [
    {
     "name": "stdout",
     "output_type": "stream",
     "text": [
      "Transformed Full Data Preview:\n",
      "   order_id customer_name product  quantity  unit_price  order_date region\n",
      "0         1         Diana  Tablet       NaN       500.0  2024-01-20  South\n",
      "1         2           Eve  Laptop       NaN         NaN  2024-04-29  North\n",
      "2         3       Charlie  Laptop       2.0       250.0  2024-01-08   None\n",
      "3         4           Eve  Laptop       2.0       750.0  2024-01-07   West\n",
      "4         5           Eve  Tablet       3.0         NaN  2024-03-07  South\n",
      "Transformed Incremental Data Preview:\n",
      "   order_id customer_name product  quantity  unit_price  order_date   region  \\\n",
      "0       105         Heidi  Tablet       2.0       600.0  2024-05-21    North   \n",
      "1       109         Grace  Laptop       2.0       600.0  2024-05-29  Central   \n",
      "\n",
      "   total_price  \n",
      "0       1200.0  \n",
      "1       1200.0  \n"
     ]
    }
   ],
   "source": [
    "import sqlite3\n",
    "import pandas as pd\n",
    "\n",
    "# Transformed Full\n",
    "conn_full = sqlite3.connect(\"full_data.db\")\n",
    "df_full = pd.read_sql_query(\"SELECT * FROM full_data LIMIT 5;\", conn_full)\n",
    "print(\"Transformed Full Data Preview:\")\n",
    "print(df_full)\n",
    "conn_full.close()\n",
    "\n",
    "# Transformed Incremental\n",
    "conn_incr = sqlite3.connect(\"incremental_data.db\")\n",
    "df_incr = pd.read_sql_query(\"SELECT * FROM incremental_data LIMIT 5;\", conn_incr)\n",
    "print(\"Transformed Incremental Data Preview:\")\n",
    "print(df_incr)\n",
    "conn_incr.close()\n"
   ]
  }
 ],
 "metadata": {
  "kernelspec": {
   "display_name": "Python 3",
   "language": "python",
   "name": "python3"
  },
  "language_info": {
   "codemirror_mode": {
    "name": "ipython",
    "version": 3
   },
   "file_extension": ".py",
   "mimetype": "text/x-python",
   "name": "python",
   "nbconvert_exporter": "python",
   "pygments_lexer": "ipython3",
   "version": "3.12.10"
  }
 },
 "nbformat": 4,
 "nbformat_minor": 5
}
