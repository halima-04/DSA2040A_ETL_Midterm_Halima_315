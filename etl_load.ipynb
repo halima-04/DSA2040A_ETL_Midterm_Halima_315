{
 "cells": [
  {
   "cell_type": "code",
   "execution_count": 4,
   "id": "c73abd3b",
   "metadata": {},
   "outputs": [],
   "source": [
    "import pandas as pd\n",
    "\n",
    "# Load the CSV file\n",
    "raw_data = pd.read_csv(\"raw_data.csv\")\n",
    "\n",
    "import sqlite3\n",
    "\n",
    "conn = sqlite3.connect(\"full_data.db\")\n",
    "raw_data.to_sql(\"full_data\", conn, if_exists=\"replace\", index=False)\n",
    "\n",
    "conn.execute(\"SELECT * FROM full_data LIMIT 5\").fetchall()\n",
    "conn.close()\n"
   ]
  },
  {
   "cell_type": "code",
   "execution_count": null,
   "id": "28ebfba2",
   "metadata": {},
   "outputs": [],
   "source": []
  },
  {
   "cell_type": "code",
   "execution_count": null,
   "id": "064bc090",
   "metadata": {},
   "outputs": [],
   "source": []
  }
 ],
 "metadata": {
  "kernelspec": {
   "display_name": "Python 3",
   "language": "python",
   "name": "python3"
  },
  "language_info": {
   "codemirror_mode": {
    "name": "ipython",
    "version": 3
   },
   "file_extension": ".py",
   "mimetype": "text/x-python",
   "name": "python",
   "nbconvert_exporter": "python",
   "pygments_lexer": "ipython3",
   "version": "3.12.10"
  }
 },
 "nbformat": 4,
 "nbformat_minor": 5
}
